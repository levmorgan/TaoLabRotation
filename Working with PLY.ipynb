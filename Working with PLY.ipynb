{
 "cells": [
  {
   "cell_type": "code",
   "execution_count": null,
   "metadata": {},
   "outputs": [],
   "source": [
    "from mayavi import mlab"
   ]
  },
  {
   "cell_type": "code",
   "execution_count": null,
   "metadata": {},
   "outputs": [],
   "source": [
    "import numpy as np\n",
    "from scipy import stats\n",
    "from plyfile import PlyData, PlyElement\n",
    "import matplotlib.pyplot as plt\n",
    "import networkx as nx"
   ]
  },
  {
   "cell_type": "code",
   "execution_count": null,
   "metadata": {},
   "outputs": [],
   "source": [
    "mlab.init_notebook()"
   ]
  },
  {
   "cell_type": "code",
   "execution_count": null,
   "metadata": {},
   "outputs": [],
   "source": [
    "s = mlab.test_plot3d()"
   ]
  },
  {
   "cell_type": "code",
   "execution_count": null,
   "metadata": {},
   "outputs": [],
   "source": [
    "skel1 = PlyData.read(\"brady125/brady125_1_skel.ply\")"
   ]
  },
  {
   "cell_type": "code",
   "execution_count": 174,
   "metadata": {},
   "outputs": [],
   "source": [
    "vertices = np.array(skel1[\"vertex\"].data.tolist())\n",
    "vertex_properties = vertices[:,[0,1]]\n",
    "vertices = vertices[:, 2:]\n",
    "edges = np.array(skel1[\"edge\"].data.tolist())\n",
    "begin_verts = vertices[edges[:,0], :]\n",
    "end_verts = vertices[edges[:,1], :]\n",
    "vector_components = end_verts - begin_verts"
   ]
  },
  {
   "cell_type": "code",
   "execution_count": null,
   "metadata": {},
   "outputs": [],
   "source": [
    "vector_components[0]"
   ]
  },
  {
   "cell_type": "code",
   "execution_count": null,
   "metadata": {},
   "outputs": [],
   "source": [
    "vertices.shape"
   ]
  },
  {
   "cell_type": "code",
   "execution_count": null,
   "metadata": {},
   "outputs": [],
   "source": [
    "\n",
    "mlab.clf()\n",
    "mlab.points3d(vertices[:,0], vertices[:,1], vertices[:,2], np.sqrt(vertex_properties[:,1]), opacity=0.1)\n",
    "mlab.quiver3d(begin_verts[:,0], begin_verts[:,1], begin_verts[:,2], vector_components[:,0], vector_components[:,1], vector_components[:,2], mode=\"2ddash\", opacity=1.)"
   ]
  },
  {
   "cell_type": "code",
   "execution_count": null,
   "metadata": {},
   "outputs": [],
   "source": [
    "np.sqrt(0)"
   ]
  },
  {
   "cell_type": "code",
   "execution_count": null,
   "metadata": {},
   "outputs": [],
   "source": [
    "?plt.hist"
   ]
  },
  {
   "cell_type": "code",
   "execution_count": null,
   "metadata": {},
   "outputs": [],
   "source": [
    "plt.hist(vertex_properties[:,1], bins=range(19))"
   ]
  },
  {
   "cell_type": "code",
   "execution_count": null,
   "metadata": {},
   "outputs": [],
   "source": [
    "stats.describe(vertex_properties[:,1])"
   ]
  },
  {
   "cell_type": "code",
   "execution_count": null,
   "metadata": {},
   "outputs": [],
   "source": [
    "len([ 0.        ,  1.81126003,  3.62252007,  5.4337801 ,  7.24504013,\n",
    "         9.05630016, 10.8675602 , 12.67882023, 14.49008026, 16.30134029,\n",
    "        18.11260033])"
   ]
  },
  {
   "cell_type": "code",
   "execution_count": null,
   "metadata": {
    "scrolled": true
   },
   "outputs": [],
   "source": [
    "startpt = np.array([[0,0,0]])\n",
    "endpt = 2*np.array([[1,1,1]])\n",
    "vec_comp = (endpt-startpt)\n",
    "vec_comp\n",
    "mlab.clf()\n",
    "mlab.points3d([0,1], [0,1], [0,1])\n",
    "testplot = mlab.quiver3d(startpt[:, 0], startpt[:, 1], startpt[:, 2], vec_comp[:, 0], vec_comp[:, 1], vec_comp[:, 2], \n",
    "                         scalars=np.array([np.sqrt(3)]), scale_mode=\"scalar\", scale_factor=1)\n",
    "mlab.axes(testplot)"
   ]
  },
  {
   "cell_type": "code",
   "execution_count": 162,
   "metadata": {},
   "outputs": [],
   "source": [
    "G = nx.Graph()"
   ]
  },
  {
   "cell_type": "code",
   "execution_count": 163,
   "metadata": {},
   "outputs": [],
   "source": [
    "G.add_edges_from(edges)"
   ]
  },
  {
   "cell_type": "code",
   "execution_count": 180,
   "metadata": {},
   "outputs": [],
   "source": [
    "subgraphs = list(sorted(nx.connected_components(G), key=len, reverse=True))"
   ]
  },
  {
   "cell_type": "code",
   "execution_count": 183,
   "metadata": {},
   "outputs": [],
   "source": [
    "root_subgraph = G.subgraph(subgraphs[1])\n",
    "subgraph_edges = np.array(root_subgraph.edges)"
   ]
  },
  {
   "cell_type": "code",
   "execution_count": 185,
   "metadata": {
    "scrolled": true
   },
   "outputs": [
    {
     "data": {
      "application/vnd.jupyter.widget-view+json": {
       "model_id": "ce9e2d6b88654f7989aeee1650ff39d3",
       "version_major": 2,
       "version_minor": 0
      },
      "text/plain": [
       "Image(value=b'\\x89PNG\\r\\n\\x1a\\n\\x00\\x00\\x00\\rIHDR\\x00\\x00\\x01\\x90\\x00\\x00\\x01^\\x08\\x02\\x00\\x00\\x00$?\\xde_\\x00\\…"
      ]
     },
     "metadata": {},
     "output_type": "display_data"
    }
   ],
   "source": [
    "begin_verts = vertices[subgraph_edges[:, 0], :]\n",
    "end_verts = vertices[subgraph_edges[:, 1], :]\n",
    "vector_components = end_verts - begin_verts\n",
    "distances = np.sqrt(np.sum(np.square(end_verts - begin_verts), axis=1))\n",
    "mlab.clf()\n",
    "# mlab.points3d(vertices[:,0], vertices[:,1], vertices[:,2], np.sqrt(vertex_properties[:,1]), opacity=0.1)\n",
    "mlab.quiver3d(begin_verts[:, 0], begin_verts[:, 1], begin_verts[:, 2], vector_components[:, 0], vector_components[:, 1],\n",
    "              vector_components[:, 2], scalars=distances, mode=\"2ddash\", opacity=1., scale_mode=\"scalar\",\n",
    "              scale_factor=1, color=(1,1,1))"
   ]
  },
  {
   "cell_type": "code",
   "execution_count": 186,
   "metadata": {},
   "outputs": [],
   "source": [
    "vertex_mask = np.isin(np.arange(vertices.shape[0]), subgraph_edges)"
   ]
  },
  {
   "cell_type": "code",
   "execution_count": 188,
   "metadata": {},
   "outputs": [
    {
     "data": {
      "text/plain": [
       "8872"
      ]
     },
     "execution_count": 188,
     "metadata": {},
     "output_type": "execute_result"
    }
   ],
   "source": [
    "np.sum(vertex_mask)"
   ]
  },
  {
   "cell_type": "code",
   "execution_count": null,
   "metadata": {},
   "outputs": [],
   "source": []
  }
 ],
 "metadata": {
  "kernelspec": {
   "display_name": "Python 3",
   "language": "python",
   "name": "python3"
  },
  "language_info": {
   "codemirror_mode": {
    "name": "ipython",
    "version": 3
   },
   "file_extension": ".py",
   "mimetype": "text/x-python",
   "name": "python",
   "nbconvert_exporter": "python",
   "pygments_lexer": "ipython3",
   "version": "3.7.3"
  }
 },
 "nbformat": 4,
 "nbformat_minor": 2
}
