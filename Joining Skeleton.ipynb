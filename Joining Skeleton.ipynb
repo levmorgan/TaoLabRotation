{
 "cells": [
  {
   "cell_type": "code",
   "execution_count": 28,
   "metadata": {},
   "outputs": [],
   "source": [
    "#!/usr/bin/env python\n",
    "# coding: utf-8\n",
    "\n",
    "import os\n",
    "import pickle\n",
    "import numpy as np\n",
    "from mayavi import mlab\n",
    "from plyfile import PlyData\n",
    "import networkx as nx\n",
    "from scipy import sparse, spatial"
   ]
  },
  {
   "cell_type": "code",
   "execution_count": 291,
   "metadata": {},
   "outputs": [],
   "source": [
    "def load_skels_from_dir(directory):\n",
    "    pickle_path = os.path.join(directory, \"parsed_graph.pickle\")\n",
    "\n",
    "    if os.path.exists(pickle_path):\n",
    "        with open(pickle_path, \"rb\") as fi:\n",
    "            print(\"Loading skeleton data from pickle\")\n",
    "            vertices, edges, vertex_properties, G = pickle.load(fi)\n",
    "            return [vertices, edges, vertex_properties, G]\n",
    "    else:\n",
    "        print(\"Loading skeleton data from directory\")\n",
    "        files = [os.path.join(directory, fi)\n",
    "                 for fi in os.listdir(directory) if fi.endswith(\".ply\")]\n",
    "        skel1 = PlyData.read(files[0])\n",
    "        vertices = np.array(skel1[\"vertex\"].data.tolist())\n",
    "        vertex_properties = vertices[:, [0, 1]]\n",
    "        vertices = vertices[:, 2:]\n",
    "        edges = np.array(skel1[\"edge\"].data.tolist())\n",
    "        begin_verts = vertices[edges[:, 0], :]\n",
    "        end_verts = vertices[edges[:, 1], :]\n",
    "        vector_components = end_verts - begin_verts\n",
    "\n",
    "        # Load a list of ply files\n",
    "        for fi in files[1:]:\n",
    "            skel = PlyData.read(fi)\n",
    "            _vertices = np.array(skel[\"vertex\"].data.tolist())\n",
    "            _vertex_properties = _vertices[:, [0, 1]]\n",
    "            _vertices = _vertices[:, 2:]\n",
    "            _edges = np.array(skel[\"edge\"].data.tolist())\n",
    "\n",
    "            # Increment all the indices in edges so that they match up with the full vertex array\n",
    "            edges = np.concatenate([edges, (_edges + vertices.shape[0])], axis=0)\n",
    "\n",
    "            vertices = np.concatenate([vertices, _vertices], axis=0)\n",
    "            vertex_properties = np.concatenate([vertex_properties, _vertex_properties], axis=0)\n",
    "\n",
    "        G = nx.Graph()\n",
    "        G.add_edges_from(edges)\n",
    "\n",
    "        with open(pickle_path, \"wb\") as fi:\n",
    "            print(\"Writing skeleton data as pickle\")\n",
    "            pickle.dump([vertices, edges, vertex_properties, G], fi)\n",
    "\n",
    "    return [vertices, edges, vertex_properties, G]\n",
    "\n",
    "\n",
    "def make_filtered_graph(_vertices, _vertex_properties, _edges, threshold):\n",
    "    vertex_filter = _vertex_properties[:, 1] > threshold\n",
    "    good_indices = np.arange(_vertices.shape[0])[vertex_filter]\n",
    "    edge_filter = np.logical_and(np.isin(_edges[:, 0], good_indices),\n",
    "                                 np.isin(_edges[:, 1], good_indices))\n",
    "    filtered_verts = _vertices[vertex_filter, :]\n",
    "    filtered_edges = _edges[edge_filter, :]\n",
    "    filtered_begin_verts = _vertices[filtered_edges[:, 0], :]\n",
    "    filtered_end_verts = _vertices[filtered_edges[:, 1], :]\n",
    "    filtered_vector_components = filtered_end_verts - filtered_begin_verts\n",
    "    filtered_distances = np.sqrt(np.sum(np.square(filtered_end_verts - filtered_begin_verts), axis=1))\n",
    "    mlab.points3d(filtered_verts[:, 0], filtered_verts[:, 1], filtered_verts[:, 2],\n",
    "                  np.sqrt(vertex_properties[vertex_filter, 1]),\n",
    "                  opacity=0.1)\n",
    "\n",
    "    mlab.quiver3d(filtered_begin_verts[:, 0], filtered_begin_verts[:, 1], filtered_begin_verts[:, 2],\n",
    "                  filtered_vector_components[:, 0], filtered_vector_components[:, 1],\n",
    "                  filtered_vector_components[:, 2], scalars=filtered_distances, scale_mode=\"scalar\", scale_factor=1,\n",
    "                  mode=\"2ddash\", opacity=1.)\n",
    "\n",
    "\n",
    "def plot_subgraph_old(vertices, edges, vertex_properties, subgraph_no):\n",
    "    _, subgraph_edges = get_subgraph(edges, subgraph_no)\n",
    "    begin_verts = vertices[subgraph_edges[:, 0], :]\n",
    "    end_verts = vertices[subgraph_edges[:, 1], :]\n",
    "    vector_components = end_verts - begin_verts\n",
    "    distances = np.sqrt(np.sum(np.square(end_verts - begin_verts), axis=1))\n",
    "    vertex_mask = np.isin(np.arange(vertices.shape[0]), subgraph_edges)\n",
    "\n",
    "    mlab.points3d(vertices[vertex_mask, 0], vertices[vertex_mask, 1], vertices[vertex_mask, 2],\n",
    "                  vertex_properties[vertex_mask, 1], scale_mode='scalar', scale_factor=1, opacity=0.1)\n",
    "    mlab.quiver3d(begin_verts[:, 0], begin_verts[:, 1], begin_verts[:, 2], vector_components[:, 0],\n",
    "                  vector_components[:, 1],\n",
    "                  vector_components[:, 2], scalars=distances, mode=\"2ddash\", opacity=1., scale_mode=\"scalar\",\n",
    "                  scale_factor=1, color=(1, 1, 1))\n",
    "\n",
    "def plot_subgraph(subgraph, vertices, points_kwargs={}, quiver_kwargs={}):\n",
    "    subgraph_edges = np.array(subgraph.edges)\n",
    "    begin_verts = vertices[subgraph_edges[:, 0], :]\n",
    "    end_verts = vertices[subgraph_edges[:, 1], :]\n",
    "    vector_components = end_verts - begin_verts\n",
    "    distances = np.sqrt(np.sum(np.square(end_verts - begin_verts), axis=1))\n",
    "    vertex_mask = np.unique(subgraph_edges.reshape((-1, 1)))\n",
    "\n",
    "    mlab.points3d(vertices[vertex_mask, 0], vertices[vertex_mask, 1], vertices[vertex_mask, 2],\n",
    "                  scale_mode='scalar', scale_factor=1, opacity=0.1, **points_kwargs)\n",
    "    mlab.quiver3d(begin_verts[:, 0], begin_verts[:, 1], begin_verts[:, 2], vector_components[:, 0],\n",
    "                  vector_components[:, 1],\n",
    "                  vector_components[:, 2], scalars=distances, mode=\"2ddash\", opacity=1., scale_mode=\"scalar\",\n",
    "                  scale_factor=1, **quiver_kwargs)\n",
    "\n",
    "def get_subgraph(edges, subgraph_no):\n",
    "    G = nx.Graph()\n",
    "    G.add_edges_from(edges)\n",
    "    subgraphs = list(sorted(nx.connected_components(G), key=len, reverse=True))\n",
    "    root_subgraph = G.subgraph(subgraphs[subgraph_no])\n",
    "    subgraph_edges = np.array(root_subgraph.edges)\n",
    "    return root_subgraph, subgraph_edges\n",
    "\n",
    "\n",
    "def plot_skeleton(skel):\n",
    "    vertices, edges, vertex_properties = get_skel_data(skel)\n",
    "\n",
    "    G = nx.Graph()\n",
    "    G.add_edges_from(edges)\n",
    "\n",
    "    plot_edges(edges, vertices)\n",
    "\n",
    "    return plot_nodes(vertices, vertex_properties)\n",
    "\n",
    "\n",
    "def plot_nodes(vertices, vertex_properties, **kwargs):\n",
    "    plot_args = {\"opacity\": 0.05, \"scale_mode\": 'scalar', \"scale_factor\": 1, }\n",
    "    plot_args.update(kwargs)\n",
    "    return mlab.points3d(vertices[:, 0], vertices[:, 1], vertices[:, 2], vertex_properties[:, 1], **kwargs)\n",
    "\n",
    "\n",
    "def get_skel_data(skel):\n",
    "    vertices = np.array(skel[\"vertex\"].data.tolist())\n",
    "    vertex_properties = vertices[:, [0, 1]]\n",
    "    vertices = vertices[:, 2:]\n",
    "    edges = np.array(skel[\"edge\"].data.tolist())\n",
    "    return vertices, edges, vertex_properties\n",
    "\n",
    "\n",
    "def plot_edges(edges, vertices, **kwargs):\n",
    "    plot_args = {\"mode\": \"2ddash\", \"opacity\": 1., \"scale_mode\": \"scalar\",\n",
    "                  \"scale_factor\": 1.}\n",
    "    plot_args.update(kwargs)\n",
    "    begin_verts = vertices[edges[:, 0], :]\n",
    "    end_verts = vertices[edges[:, 1], :]\n",
    "    vector_components = end_verts - begin_verts\n",
    "    distances = np.sqrt(np.sum(np.square(end_verts - begin_verts), axis=1))\n",
    "    return mlab.quiver3d(begin_verts[:, 0], begin_verts[:, 1], begin_verts[:, 2], vector_components[:, 0],\n",
    "                         vector_components[:, 1],\n",
    "                         vector_components[:, 2], scalars=distances, **plot_args)\n",
    "\n",
    "# plot_subgraph(vertices, edges, vertex_properties, 0)\n",
    "\n",
    "# skel1 = PlyData.read(\"v2highres_skel.ply\")\n",
    "# vertices, edges, vertex_properties = get_skel_data(skel1)\n",
    "# # plot_skeleton(skel1)\n",
    "# plot_edges(edges, vertices)\n",
    "# plot_edges(cycle1, vertices, color=(1, 0, 0), line_width=10.0)\n",
    "\n",
    "def get_adjacent_points(center, vertices, side_length):\n",
    "    half = side_length/2.\n",
    "    cx, cy, cz = center\n",
    "    vx = vertices[:, 0]\n",
    "    vy = vertices[:, 1]\n",
    "    vz = vertices[:, 2]\n",
    "    selected = vertices[np.logical_and.reduce(\n",
    "        (vx >= (cx-half), vx <= (cx+half),\n",
    "         vy >= (cy-half), vy <= (cy+half),\n",
    "         vz >= (cz-half), vz <= (cz+half))), :]\n",
    "    return selected\n",
    "\n",
    "def get_subgraph_vector(subgraph, vertices, mean_root_vert):\n",
    "    degrees = np.array(subgraph.degree())\n",
    "    leaf_indices = degrees[degrees[:, 1] == 1, 0]\n",
    "    leaf_verts = vertices[leaf_indices, :]\n",
    "    distal_leaf = leaf_verts[np.argmax(spatial.distance.cdist(mean_root_vert, leaf_verts)), :]\n",
    "    root_vector = np.mean(vertices[subgraph.nodes, :] - distal_leaf, axis=0)\n",
    "    norm = np.linalg.norm(root_vector)\n",
    "    if norm != 0:\n",
    "        root_vector = root_vector/norm\n",
    "    return root_vector.reshape([1, -1])\n",
    "    \n",
    "def get_elliptical_distance(s_verts, d_verts, alpha, vector):\n",
    "    d_verts_br = d_verts[:, None, None, :]\n",
    "    dxdxdz = d_verts_br-s_verts\n",
    "    \n",
    "#     vectors = dxdxdz[0,0,:,:]\n",
    "#     norms = np.linalg.norm(vectors, axis=1)\n",
    "#     print(s_verts)\n",
    "#     print(vectors)\n",
    "#     print(norms)\n",
    "    \n",
    "#     dest_vertex = d_verts[0, :].reshape([1, -1])\n",
    "#     mlab.points3d(dest_vertex[:, 0], dest_vertex[:, 1], dest_vertex[:,2], color=)\n",
    "    \n",
    "#     mlab.quiver3d(s_verts[:, 0], s_verts[:, 1], s_verts[:, 2], vectors[:, 0],\n",
    "#                      vectors[:, 1],\n",
    "#                      vectors[:, 2], scalars=norms, scale_mode=\"scalar\", scale_factor=1, line_width=5)\n",
    "    \n",
    "    dx = dxdxdz[:, :, :, 0]\n",
    "    dy = dxdxdz[:, :, :, 1]\n",
    "    dz = dxdxdz[:, :, :, 2]\n",
    "    sq_distance = dx*dx + dy*dy + dz*dz\n",
    "    alpha = 0.9\n",
    "    final_distance = sq_distance - alpha * np.square((dx*vector[:, 0]+dy*vector[:, 1]+dz*vector[:, 2]))\n",
    "    final_distance = np.transpose(final_distance.reshape(d_verts.shape[0], s_verts.shape[0]))\n",
    "    return(final_distance)\n",
    "\n",
    "# SUBGRAPH_SIZE_THRESHOLD = 50"
   ]
  },
  {
   "cell_type": "code",
   "execution_count": 292,
   "metadata": {},
   "outputs": [
    {
     "name": "stdout",
     "output_type": "stream",
     "text": [
      "Loading skeletons, creating graphs\n",
      "Loading skeleton data from pickle\n",
      "Calculating distance matrix:\n",
      "Finding connected component leaves\n",
      "Finding neighbors\n",
      "Calculating MST\n",
      "Writing distance matrix and MST: distance_matrix_brady129.pickle\n"
     ]
    }
   ],
   "source": [
    "DIRECTORY = \"brady129\"\n",
    "DISTANCE = 30\n",
    "MIN_NEIGHBORS = 0\n",
    "\n",
    "print(\"Loading skeletons, creating graphs\")\n",
    "vertices, edges, vertex_properties, G = load_skels_from_dir(DIRECTORY)\n",
    "\n",
    "verts_and_idx = np.hstack([vertices, np.arange(len(vertices)).reshape(-1, 1)])\n",
    "\n",
    "subgraphs = list(sorted(nx.connected_components(G), key=len, reverse=True))\n",
    "sG = G.subgraph(subgraphs[0])\n",
    "# root_edges = np.array(sG.edges)\n",
    "\n",
    "# root_indices = np.unique(root_edges.copy().flatten())\n",
    "root_indices = sG.nodes\n",
    "root_verts = vertices[root_indices, :]\n",
    "root_degrees = np.array(G.degree(root_indices))\n",
    "root_leaves = root_degrees[root_degrees[:, 1] == 1, 0]\n",
    "leaf_verts = vertices[root_leaves, :]\n",
    "root_mean = np.mean(root_verts, axis=0).reshape((1,3))\n",
    "\n",
    "pickle_name = \"distance_matrix_{}.pickle\".format(DIRECTORY)\n",
    "if os.path.exists(pickle_name):\n",
    "    print(\"Reading distance matrix from file: {}\".format(pickle_name))\n",
    "    with open(pickle_name, \"rb\") as fi:\n",
    "        distance_matrix, mst = pickle.load(fi)\n",
    "else:\n",
    "    print(\"Calculating distance matrix:\")\n",
    "    non_root_indices = np.delete(np.arange(vertices.shape[0]), root_indices)\n",
    "    nrG = G.subgraph(item for subgraph in subgraphs[1:] for item in subgraph)\n",
    "\n",
    "    print(\"Finding connected component leaves\")\n",
    "    nr_degrees = np.array(nrG.degree())\n",
    "    nr_leaf_indices = nr_degrees[nr_degrees[:, 1] == 1, 0]\n",
    "    # nr_leaf_vertices = vertices[nr_leaf_indices, :]\n",
    "\n",
    "    indices_by_subgraph = np.array([[item, idx] for idx, subgraph in enumerate(subgraphs) for item in subgraph])\n",
    "    end_indices = np.concatenate([nr_leaf_indices, root_indices])\n",
    "    end_indices_sub = indices_by_subgraph[np.isin(indices_by_subgraph, end_indices)[:, 0], :]\n",
    "\n",
    "    distance_matrix = sparse.lil_matrix((vertices.shape[0], vertices.shape[0]))\n",
    "\n",
    "    distance_matrix[edges[:, 0], edges[:, 1]] = 10 ^ -6\n",
    "\n",
    "    ct = 0\n",
    "\n",
    "    print(\"Finding neighbors\")\n",
    "    # TODO: Find the optimal path (according to the cost function) between all pairwise subgraphs, then optimize that\n",
    "    for leaf_idx, subgraph in end_indices_sub[end_indices_sub[:, 1] != 0, :]:\n",
    "        leaf = vertices[leaf_idx, :]\n",
    "        _end_indices = end_indices_sub[end_indices_sub[:, 1] != subgraph, 0]\n",
    "        end_verts = verts_and_idx[_end_indices, :]\n",
    "        max_distance = DISTANCE\n",
    "        neighbors = np.zeros((0, 0))\n",
    "        neighbors = get_adjacent_points(leaf, end_verts, max_distance)\n",
    "        while len(neighbors) < MIN_NEIGHBORS:\n",
    "            neighbors = get_adjacent_points(leaf, end_verts, max_distance)\n",
    "            #         print(\"Got {} neighbors, max_distance={}\".format(len(neighbors), max_distance))\n",
    "            max_distance = max_distance + 10\n",
    "        leaf = leaf.reshape(1, -1)\n",
    "        # TODO: use elliptical distance here\n",
    "        # distances = spatial.distance_matrix(leaf, neighbors[:, :3])\n",
    "        #     print(distances)\n",
    "        sg_vector = get_subgraph_vector(G.subgraph(subgraphs[subgraph]), vertices, mean_root_vert=root_mean)\n",
    "#         print(sg_vector.shape)\n",
    "        distances = get_elliptical_distance(leaf, neighbors[:, :3], alpha=0.8, vector=sg_vector)\n",
    "        distance_matrix[leaf_idx, neighbors[:, 3].astype(int)] = distances\n",
    "        ct = ct + 1\n",
    "        \n",
    "    print(\"Calculating MST\")\n",
    "    weighted_G = nx.from_scipy_sparse_matrix(distance_matrix)\n",
    "    mst = nx.minimum_spanning_tree(weighted_G)\n",
    "\n",
    "    print(\"Writing distance matrix and MST: {}\".format(pickle_name))\n",
    "    with open(pickle_name, \"wb\") as fi:\n",
    "        pickle.dump([distance_matrix, mst], fi)\n"
   ]
  },
  {
   "cell_type": "code",
   "execution_count": 293,
   "metadata": {
    "scrolled": true
   },
   "outputs": [
    {
     "name": "stdout",
     "output_type": "stream",
     "text": [
      "Plotting\n"
     ]
    }
   ],
   "source": [
    "mst_subgraphs = list(sorted(nx.connected_components(mst), key=len, reverse=True))\n",
    "root_mst = mst.subgraph(mst_subgraphs[0])\n",
    "mst_edges = np.array(root_mst.edges)\n",
    "\n",
    "print(\"Plotting\")\n",
    "mlab.clf()\n",
    "plot_edges(mst_edges, vertices)\n",
    "\n",
    "\n",
    "root_edges = np.array(sG.edges)\n",
    "\n",
    "plot_edges(root_edges, vertices, color=(0,0,0), line_width=3.0)\n",
    "\n",
    "\n",
    "# plot_edges(mst_edges, vertices, line_width=4.0)\n",
    "# plot_edges(edges, vertices)\n",
    "# mlab.points3d(leaf_verts[:, 0], leaf_verts[:, 1], leaf_verts[:, 2], color=(1,0,0), scale_factor=2)\n",
    "\n",
    "mlab.show()"
   ]
  },
  {
   "cell_type": "code",
   "execution_count": 259,
   "metadata": {},
   "outputs": [
    {
     "data": {
      "text/plain": [
       "array([1576., 1253.,  326.])"
      ]
     },
     "execution_count": 259,
     "metadata": {},
     "output_type": "execute_result"
    }
   ],
   "source": [
    "vertices[1688]"
   ]
  },
  {
   "cell_type": "code",
   "execution_count": 260,
   "metadata": {},
   "outputs": [
    {
     "data": {
      "text/plain": [
       "array([1582., 1252.,  332.])"
      ]
     },
     "execution_count": 260,
     "metadata": {},
     "output_type": "execute_result"
    }
   ],
   "source": [
    "vertices[116252]"
   ]
  },
  {
   "cell_type": "code",
   "execution_count": 265,
   "metadata": {},
   "outputs": [
    {
     "data": {
      "text/plain": [
       "array([[1688, 4728]])"
      ]
     },
     "execution_count": 265,
     "metadata": {},
     "output_type": "execute_result"
    }
   ],
   "source": [
    "end_indices_sub[end_indices_sub[:, 0]==1688, :]"
   ]
  },
  {
   "cell_type": "code",
   "execution_count": 266,
   "metadata": {},
   "outputs": [
    {
     "data": {
      "text/plain": [
       "{1688, 108290}"
      ]
     },
     "execution_count": 266,
     "metadata": {},
     "output_type": "execute_result"
    }
   ],
   "source": [
    "subgraphs[4728]"
   ]
  },
  {
   "cell_type": "code",
   "execution_count": 290,
   "metadata": {},
   "outputs": [
    {
     "data": {
      "text/plain": [
       "array([0., 0., 0.])"
      ]
     },
     "execution_count": 290,
     "metadata": {},
     "output_type": "execute_result"
    }
   ],
   "source": [
    "subgraph = G.subgraph(subgraphs[4728])\n",
    "mean_root_vert = root_mean\n",
    "\n",
    "degrees = np.array(subgraph.degree())\n",
    "leaf_indices = degrees[degrees[:, 1] == 1, 0]\n",
    "leaf_verts = vertices[leaf_indices, :]\n",
    "distal_leaf = leaf_verts[np.argmax(spatial.distance.cdist(mean_root_vert, leaf_verts)), :]\n",
    "root_vector = np.mean(vertices[subgraph.nodes, :] - distal_leaf, axis=0)\n",
    "norm = np.linalg.norm(root_vector)\n",
    "if norm != 0:\n",
    "    root_vector = root_vector/norm\n",
    "\n",
    "\n",
    "root_vector"
   ]
  },
  {
   "cell_type": "code",
   "execution_count": 246,
   "metadata": {},
   "outputs": [
    {
     "name": "stdout",
     "output_type": "stream",
     "text": [
      "[[898.14599609 774.08898926  15.        ]\n",
      " [897.99798584 773.309021    15.        ]\n",
      " [898.10198975 773.99102783  15.        ]\n",
      " [898.02801514 773.69299316  15.        ]\n",
      " [897.99700928 773.125       15.        ]]\n",
      "[[-2.05993652e-01  7.89110107e+01  7.00000000e+00]\n",
      " [-5.79833984e-02  7.96909790e+01  7.00000000e+00]\n",
      " [-1.61987305e-01  7.90089722e+01  7.00000000e+00]\n",
      " [-8.80126953e-02  7.93070068e+01  7.00000000e+00]\n",
      " [-5.70068359e-02  7.98750000e+01  7.00000000e+00]]\n",
      "[79.22114648 79.99784683 79.3186228  79.61538218 80.18116284]\n"
     ]
    }
   ],
   "source": [
    "mean_root_vert = np.average(root_verts, axis=0).reshape((1,3))\n",
    "\n",
    "def get_subgraph_vector(subgraph, vertices, mean_root_vert):\n",
    "    degrees = np.array(subgraph.degree())\n",
    "    leaf_indices = degrees[degrees[:, 1] == 1, 0]\n",
    "    leaf_verts = vertices[leaf_indices, :]\n",
    "    distal_leaf = leaf_verts[np.argmax(spatial.distance.cdist(mean_root_vert, leaf_verts)), :]\n",
    "    root_vector = np.mean(leaf_verts - distal_leaf, axis=0)\n",
    "    root_vector = root_vector/np.linalg.norm(root_vector)\n",
    "    return (root_vector, distal_leaf)\n",
    "    \n",
    "def get_elliptical_distance(s_verts, d_verts, alpha, vector):\n",
    "    d_verts_br = d_verts[:, None, None, :]\n",
    "    dxdxdz = d_verts_br-s_verts\n",
    "    \n",
    "    vectors = dxdxdz[0,0,:,:]\n",
    "    norms = np.linalg.norm(vectors, axis=1)\n",
    "    print(s_verts)\n",
    "    print(vectors)\n",
    "    print(norms)\n",
    "    \n",
    "    dest_vertex = d_verts[0, :].reshape([1, -1])\n",
    "    mlab.points3d(dest_vertex[:, 0], dest_vertex[:, 1], dest_vertex[:,2], color=)\n",
    "    \n",
    "    mlab.quiver3d(s_verts[:, 0], s_verts[:, 1], s_verts[:, 2], vectors[:, 0],\n",
    "                     vectors[:, 1],\n",
    "                     vectors[:, 2], scalars=norms, scale_mode=\"scalar\", scale_factor=1, line_width=5)\n",
    "    \n",
    "    dx = dxdxdz[:, :, :, 0]\n",
    "    dy = dxdxdz[:, :, :, 1]\n",
    "    dz = dxdxdz[:, :, :, 2]\n",
    "    sq_distance = dx*dx + dy*dy + dz*dz\n",
    "    alpha = 0.9\n",
    "    final_distance = sq_distance - alpha * np.square((dx*vector[:, 0]+dy*vector[:, 1]+dz*vector[:, 2]))\n",
    "    final_distance = np.transpose(final_distance.reshape(d_verts.shape[0], s_verts.shape[0]))\n",
    "    return(final_distance)\n",
    "\n",
    "mlab.clf()\n",
    "sg1 = G.subgraph(subgraphs[4200])\n",
    "sg2 = G.subgraph(subgraphs[4201])\n",
    "plot_subgraph(sg1, vertices)\n",
    "plot_subgraph(sg2, vertices)\n",
    "vector, distal_leaf = get_subgraph_vector(sg1, vertices, mean_root_vert)\n",
    "vector = vector.reshape(1,3)\n",
    "distal_leaf = distal_leaf.reshape(1,3)\n",
    "s_verts = vertices[sg1.nodes, :]\n",
    "d_verts = vertices[sg2.nodes, :]\n",
    "get_elliptical_distance(s_verts, d_verts, alpha, vector)\n",
    "mlab.show()\n",
    "#get_elliptical_distance(s_verts, d_verts, alpha, vector)"
   ]
  },
  {
   "cell_type": "code",
   "execution_count": 66,
   "metadata": {},
   "outputs": [
    {
     "data": {
      "text/plain": [
       "{343348, 349016, 408572, 408573, 408579}"
      ]
     },
     "execution_count": 66,
     "metadata": {},
     "output_type": "execute_result"
    }
   ],
   "source": [
    "mlab.points3d(s_verts[:,0], s_verts[:,1], s_verts[:,2])\n",
    "plot_edges(root_edges, vertices, color=(0,0,0), line_width=3.0)"
   ]
  },
  {
   "cell_type": "code",
   "execution_count": 178,
   "metadata": {},
   "outputs": [
    {
     "name": "stdout",
     "output_type": "stream",
     "text": [
      "[[ 0  1  2]\n",
      " [ 3  4  5]\n",
      " [ 6  7  8]\n",
      " [ 9 10 11]]\n",
      "[[2 3 4]\n",
      " [5 6 7]]\n"
     ]
    }
   ],
   "source": [
    "a = np.arange(12).reshape((4,3))\n",
    "b = np.arange(2,8).reshape((2,3))\n",
    "print(a)\n",
    "print(b)"
   ]
  },
  {
   "cell_type": "code",
   "execution_count": 203,
   "metadata": {},
   "outputs": [
    {
     "name": "stdout",
     "output_type": "stream",
     "text": [
      "[[[[ 2  2  2]\n",
      "   [-1 -1 -1]\n",
      "   [-4 -4 -4]\n",
      "   [-7 -7 -7]]]\n",
      "\n",
      "\n",
      " [[[ 5  5  5]\n",
      "   [ 2  2  2]\n",
      "   [-1 -1 -1]\n",
      "   [-4 -4 -4]]]]\n",
      "[[ 2  2  2]\n",
      " [-1 -1 -1]\n",
      " [-4 -4 -4]\n",
      " [-7 -7 -7]]\n",
      "[[[ 12   3  48 147]]\n",
      "\n",
      " [[ 75  12   3  48]]]\n",
      "[[ 7.31318317 45.70739483]\n",
      " [ 1.82829579  7.31318317]\n",
      " [29.25273269  1.82829579]\n",
      " [89.58649387 29.25273269]]\n",
      "(4, 2)\n"
     ]
    }
   ],
   "source": [
    "b_br = b[:, None, None, :]\n",
    "res = b_br-a\n",
    "print(res)\n",
    "dx = res[:, :, :, 0]\n",
    "dy = res[:, :, :, 1]\n",
    "dz = res[:, :, :, 2]\n",
    "\n",
    "sq_distance = dx*dx + dy*dy + dz*dz\n",
    "print(sq_distance)\n",
    "alpha = 0.9\n",
    "final_distance = sq_distance - alpha * np.square((dx*vector[:, 0]+dy*vector[:, 1]+dz*vector[:, 2]))\n",
    "final_distance = np.transpose(final_distance.reshape(b.shape[0], a.shape[0]))\n",
    "print(final_distance)\n",
    "print(final_distance.shape)\n",
    "# res_sum = np.sum(res, axis=3)\n",
    "# final_distance = res_sum.reshape((b.shape[0], a.shape[0]))\n",
    "# a: m x n\n",
    "# b: o x n\n",
    "# f(a,b): o x 1 x m x n\n",
    "# print(res.reshape(2,2,3))\n",
    "# np.sum(, axis=0)"
   ]
  },
  {
   "cell_type": "code",
   "execution_count": 279,
   "metadata": {},
   "outputs": [],
   "source": [
    "def get_subgraph_vector_1(subgraph, vertices, mean_root_vert):\n",
    "    degrees = np.array(subgraph.degree())\n",
    "    leaf_indices = degrees[degrees[:, 1] == 1, 0]\n",
    "    leaf_verts = vertices[leaf_indices, :]\n",
    "    distal_leaf = leaf_verts[np.argmax(spatial.distance.cdist(mean_root_vert, leaf_verts)), :]\n",
    "    root_vector = np.mean(vertices[subgraph.nodes, :] - distal_leaf, axis=0)\n",
    "    root_vector = root_vector/np.linalg.norm(root_vector)\n",
    "    return root_vector.reshape([1, -1]), distal_leaf.reshape([1, -1])\n",
    "\n",
    "mlab.clf()\n",
    "\n",
    "subgraph = G.subgraph(subgraphs[4200])\n",
    "subgraph_edges = np.array(subgraph.edges)\n",
    "plot_subgraph(subgraph, vertices)\n",
    "\n",
    "root_vector, distal_leaf = get_subgraph_vector_1(subgraph, vertices, mean_root_vert)\n",
    "\n",
    "mlab.quiver3d(distal_leaf[:, 0], distal_leaf[:, 1], distal_leaf[:, 2], vector[:, 0],\n",
    "                     vector[:, 1],\n",
    "                     vector[:, 2], scalars=np.array([20]))\n",
    "mlab.show()"
   ]
  },
  {
   "cell_type": "code",
   "execution_count": 224,
   "metadata": {},
   "outputs": [
    {
     "data": {
      "text/plain": [
       "array([ 3.46410162,  1.73205081,  6.92820323, 12.12435565])"
      ]
     },
     "execution_count": 224,
     "metadata": {},
     "output_type": "execute_result"
    }
   ],
   "source": [
    "np.linalg.norm(res[0,0,:,:], axis=1)"
   ]
  },
  {
   "cell_type": "code",
   "execution_count": 146,
   "metadata": {},
   "outputs": [
    {
     "ename": "IndexError",
     "evalue": "too many indices for array",
     "output_type": "error",
     "traceback": [
      "\u001b[1;31m---------------------------------------------------------------------------\u001b[0m",
      "\u001b[1;31mIndexError\u001b[0m                                Traceback (most recent call last)",
      "\u001b[1;32m<ipython-input-146-21d438028d9d>\u001b[0m in \u001b[0;36m<module>\u001b[1;34m\u001b[0m\n\u001b[1;32m----> 1\u001b[1;33m \u001b[0mdistal_leaf\u001b[0m\u001b[1;33m[\u001b[0m\u001b[1;33m:\u001b[0m\u001b[1;33m,\u001b[0m \u001b[1;36m1\u001b[0m\u001b[1;33m]\u001b[0m\u001b[1;33m\u001b[0m\u001b[1;33m\u001b[0m\u001b[0m\n\u001b[0m",
      "\u001b[1;31mIndexError\u001b[0m: too many indices for array"
     ]
    }
   ],
   "source": [
    "distal_leaf[:, 1]"
   ]
  },
  {
   "cell_type": "code",
   "execution_count": null,
   "metadata": {},
   "outputs": [],
   "source": []
  },
  {
   "cell_type": "code",
   "execution_count": null,
   "metadata": {},
   "outputs": [],
   "source": []
  },
  {
   "cell_type": "code",
   "execution_count": 248,
   "metadata": {},
   "outputs": [],
   "source": [
    "os.unlink(pickle_name)"
   ]
  },
  {
   "cell_type": "code",
   "execution_count": 45,
   "metadata": {},
   "outputs": [
    {
     "data": {
      "text/plain": [
       "1.0"
      ]
     },
     "execution_count": 45,
     "metadata": {},
     "output_type": "execute_result"
    }
   ],
   "source": [
    "np.dot(u, v)/np.linalg.norm(u)*np.linalg.norm(v)"
   ]
  }
 ],
 "metadata": {
  "kernelspec": {
   "display_name": "Python 3",
   "language": "python",
   "name": "python3"
  },
  "language_info": {
   "codemirror_mode": {
    "name": "ipython",
    "version": 3
   },
   "file_extension": ".py",
   "mimetype": "text/x-python",
   "name": "python",
   "nbconvert_exporter": "python",
   "pygments_lexer": "ipython3",
   "version": "3.7.3"
  }
 },
 "nbformat": 4,
 "nbformat_minor": 2
}
