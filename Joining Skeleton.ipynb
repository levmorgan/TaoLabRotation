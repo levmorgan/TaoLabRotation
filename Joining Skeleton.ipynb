{
 "cells": [
  {
   "cell_type": "code",
   "execution_count": 1,
   "metadata": {},
   "outputs": [],
   "source": [
    "import numpy as np\n",
    "from mayavi import mlab\n",
    "from plyfile import PlyData\n",
    "import networkx as nx\n",
    "import os\n",
    "from matplotlib import pyplot as plt\n",
    "from scipy import sparse, spatial"
   ]
  },
  {
   "cell_type": "code",
   "execution_count": 2,
   "metadata": {},
   "outputs": [
    {
     "name": "stdout",
     "output_type": "stream",
     "text": [
      "Notebook initialized with ipy backend.\n"
     ]
    }
   ],
   "source": [
    "mlab.init_notebook()"
   ]
  },
  {
   "cell_type": "code",
   "execution_count": 3,
   "metadata": {},
   "outputs": [
    {
     "data": {
      "text/plain": [
       "'C:\\\\Users\\\\morga\\\\PycharmProjects\\\\tao_lab_testing'"
      ]
     },
     "execution_count": 3,
     "metadata": {},
     "output_type": "execute_result"
    }
   ],
   "source": [
    "os.getcwd()"
   ]
  },
  {
   "cell_type": "code",
   "execution_count": 61,
   "metadata": {},
   "outputs": [],
   "source": [
    "def load_skels_from_dir(directory):\n",
    "    files = [os.path.join(directory, fi)\n",
    "             for fi in os.listdir(directory) if fi.endswith(\".ply\")]\n",
    "    skel1 = PlyData.read(files[0])\n",
    "    vertices = np.array(skel1[\"vertex\"].data.tolist())\n",
    "    vertex_properties = vertices[:, [0, 1]]\n",
    "    vertices = vertices[:, 2:]\n",
    "    edges = np.array(skel1[\"edge\"].data.tolist())\n",
    "    begin_verts = vertices[edges[:, 0], :]\n",
    "    end_verts = vertices[edges[:, 1], :]\n",
    "    vector_components = end_verts - begin_verts\n",
    "\n",
    "    G = nx.Graph()\n",
    "    G.add_edges_from(edges)\n",
    "\n",
    "    # Load a list of ply files\n",
    "    for fi in files[1:]:\n",
    "        skel = PlyData.read(fi)\n",
    "        _vertices = np.array(skel[\"vertex\"].data.tolist())\n",
    "        _vertex_properties = _vertices[:, [0, 1]]\n",
    "        _vertices = _vertices[:, 2:]\n",
    "        _edges = np.array(skel[\"edge\"].data.tolist())\n",
    "\n",
    "\n",
    "        # Increment all the indices in edges so that they match up with the full vertex array\n",
    "        edges = np.concatenate([edges, (_edges + vertices.shape[0])], axis=0)\n",
    "\n",
    "        vertices = np.concatenate([vertices, _vertices], axis=0)\n",
    "        vertex_properties = np.concatenate([vertex_properties, _vertex_properties], axis=0)\n",
    "    return [vertices, edges, vertex_properties]\n",
    "\n",
    "\n",
    "def make_filtered_graph(_vertices, _vertex_properties, _edges, threshold):\n",
    "    vertex_filter = _vertex_properties[:, 1] > threshold\n",
    "    good_indices = np.arange(_vertices.shape[0])[vertex_filter]\n",
    "    edge_filter = np.logical_and(np.isin(_edges[:, 0], good_indices),\n",
    "                                 np.isin(_edges[:, 1], good_indices))\n",
    "    filtered_verts = _vertices[vertex_filter, :]\n",
    "    filtered_edges = _edges[edge_filter, :]\n",
    "    filtered_begin_verts = _vertices[filtered_edges[:, 0], :]\n",
    "    filtered_end_verts = _vertices[filtered_edges[:, 1], :]\n",
    "    filtered_vector_components = filtered_end_verts - filtered_begin_verts\n",
    "    filtered_distances = np.sqrt(np.sum(np.square(filtered_end_verts - filtered_begin_verts), axis=1))\n",
    "    mlab.points3d(filtered_verts[:, 0], filtered_verts[:, 1], filtered_verts[:, 2],\n",
    "                  np.sqrt(vertex_properties[vertex_filter, 1]),\n",
    "                  opacity=0.1)\n",
    "\n",
    "    mlab.quiver3d(filtered_begin_verts[:, 0], filtered_begin_verts[:, 1], filtered_begin_verts[:, 2],\n",
    "                  filtered_vector_components[:, 0], filtered_vector_components[:, 1],\n",
    "                  filtered_vector_components[:, 2], scalars=filtered_distances, scale_mode=\"scalar\", scale_factor=1,\n",
    "                  mode=\"2ddash\", opacity=1.)\n",
    "\n",
    "\n",
    "def plot_subgraph(vertices, edges, vertex_properties, subgraph_no):\n",
    "    _, subgraph_edges = get_subgraph(edges, subgraph_no)\n",
    "    begin_verts = vertices[subgraph_edges[:, 0], :]\n",
    "    end_verts = vertices[subgraph_edges[:, 1], :]\n",
    "    vector_components = end_verts - begin_verts\n",
    "    distances = np.sqrt(np.sum(np.square(end_verts - begin_verts), axis=1))\n",
    "    vertex_mask = np.isin(np.arange(vertices.shape[0]), subgraph_edges)\n",
    "\n",
    "    mlab.points3d(vertices[vertex_mask, 0], vertices[vertex_mask, 1], vertices[vertex_mask, 2],\n",
    "                  vertex_properties[vertex_mask, 1], scale_mode='scalar', scale_factor=1, opacity=0.1)\n",
    "    mlab.quiver3d(begin_verts[:, 0], begin_verts[:, 1], begin_verts[:, 2], vector_components[:, 0],\n",
    "                  vector_components[:, 1],\n",
    "                  vector_components[:, 2], scalars=distances, mode=\"2ddash\", opacity=1., scale_mode=\"scalar\",\n",
    "                  scale_factor=1, color=(1, 1, 1))\n",
    "\n",
    "\n",
    "def get_subgraph(edges, subgraph_no):\n",
    "    G = nx.Graph()\n",
    "    G.add_edges_from(edges)\n",
    "    subgraphs = list(sorted(nx.connected_components(G), key=len, reverse=True))\n",
    "    root_subgraph = G.subgraph(subgraphs[subgraph_no])\n",
    "    subgraph_edges = np.array(root_subgraph.edges)\n",
    "    return G, subgraph_edges\n",
    "\n",
    "\n",
    "def plot_skeleton(skel):\n",
    "    vertices, edges, vertex_properties = get_skel_data(skel)\n",
    "\n",
    "    G = nx.Graph()\n",
    "    G.add_edges_from(edges)\n",
    "\n",
    "    plot_edges(edges, vertices)\n",
    "\n",
    "    return plot_nodes(vertices, vertex_properties)\n",
    "\n",
    "\n",
    "def plot_nodes(vertices, vertex_properties, **kwargs):\n",
    "    plot_args = {\"opacity\": 0.05, \"scale_mode\": 'scalar', \"scale_factor\": 1, }\n",
    "    plot_args.update(kwargs)\n",
    "    return mlab.points3d(vertices[:, 0], vertices[:, 1], vertices[:, 2], vertex_properties[:, 1], **kwargs)\n",
    "\n",
    "\n",
    "def get_skel_data(skel):\n",
    "    vertices = np.array(skel[\"vertex\"].data.tolist())\n",
    "    vertex_properties = vertices[:, [0, 1]]\n",
    "    vertices = vertices[:, 2:]\n",
    "    edges = np.array(skel[\"edge\"].data.tolist())\n",
    "    return vertices, edges, vertex_properties\n",
    "\n",
    "\n",
    "def plot_edges(edges, vertices, **kwargs):\n",
    "    plot_args = {\"mode\": \"2ddash\", \"opacity\": 1., \"scale_mode\": \"scalar\",\n",
    "                  \"scale_factor\": 1.}\n",
    "    plot_args.update(kwargs)\n",
    "    begin_verts = vertices[edges[:, 0], :]\n",
    "    end_verts = vertices[edges[:, 1], :]\n",
    "    vector_components = end_verts - begin_verts\n",
    "    distances = np.sqrt(np.sum(np.square(end_verts - begin_verts), axis=1))\n",
    "    return mlab.quiver3d(begin_verts[:, 0], begin_verts[:, 1], begin_verts[:, 2], vector_components[:, 0],\n",
    "                  vector_components[:, 1],\n",
    "                  vector_components[:, 2], scalars=distances, **plot_args)"
   ]
  },
  {
   "cell_type": "code",
   "execution_count": 5,
   "metadata": {},
   "outputs": [],
   "source": [
    "def get_adjacent_points(center, vertices, side_length):\n",
    "    half = side_length/2.\n",
    "    cx, cy, cz = center\n",
    "    vx = vertices[:, 0]\n",
    "    vy = vertices[:, 1]\n",
    "    vz = vertices[:, 2]\n",
    "    selected = vertices[np.logical_and.reduce(\n",
    "        (vx >= (cx-half), vx <= (cx+half),\n",
    "         vy >= (cy-half), vy <= (cy+half),\n",
    "         vz >= (cz-half), vz <= (cz+half))), :]\n",
    "    return selected"
   ]
  },
  {
   "cell_type": "code",
   "execution_count": 6,
   "metadata": {},
   "outputs": [],
   "source": [
    "vertices, edges, vertex_properties = load_skels_from_dir(\"brady125\")\n",
    "# plot_nodes(vertices, vertex_properties)"
   ]
  },
  {
   "cell_type": "code",
   "execution_count": 7,
   "metadata": {},
   "outputs": [],
   "source": [
    "G = nx.Graph()\n",
    "G.add_edges_from(edges)\n",
    "\n",
    "verts_and_idx = np.hstack([vertices, np.arange(len(vertices)).reshape(-1, 1)])\n",
    "\n",
    "subgraphs = list(sorted(nx.connected_components(G), key=len, reverse=True))\n",
    "sG = G.subgraph(subgraphs[0])\n",
    "# root_edges = np.array(sG.edges)\n",
    "\n",
    "# root_indices = np.unique(root_edges.copy().flatten())\n",
    "root_indices = sG.nodes\n",
    "# root_verts = vertices[root_indices, :]\n",
    "# root_degrees = np.array(G.degree(root_indices))\n",
    "# root_leaves = root_degrees[root_degrees[:, 1] == 1, 0]\n",
    "# leaf_verts = vertices[root_leaves, :]\n",
    "\n",
    "non_root_indices = np.delete(np.arange(vertices.shape[0]), root_indices)\n",
    "nrG = G.subgraph(item for subgraph in subgraphs[1:] for item in subgraph)\n",
    "\n",
    "nr_degrees = np.array(nrG.degree())\n",
    "nr_leaf_indices = nr_degrees[nr_degrees[:, 1] == 1, 0]\n",
    "# nr_leaf_vertices = vertices[nr_leaf_indices, :]\n",
    "\n",
    "indices_by_subgraph = np.array([[item, idx] for idx, subgraph in enumerate(subgraphs) for item in subgraph])\n",
    "end_indices = np.concatenate([nr_leaf_indices, root_indices])\n",
    "end_indices_sub = indices_by_subgraph[np.isin(indices_by_subgraph, end_indices)[:, 0], :]"
   ]
  },
  {
   "cell_type": "code",
   "execution_count": 8,
   "metadata": {},
   "outputs": [
    {
     "data": {
      "text/plain": [
       "array([[1598.93994141,  310.93701172,  585.        ],\n",
       "       [1616.01000977,  296.62701416,  601.63500977],\n",
       "       [1575.68005371,  661.07098389,  314.5       ],\n",
       "       [1578.01000977,  654.94000244,  315.        ],\n",
       "       [1581.26000977,  361.99200439,  589.00201416],\n",
       "       [1554.68994141,  218.07000732,  603.        ],\n",
       "       [1620.83996582,  404.9079895 ,  547.15899658],\n",
       "       [1591.31005859,  266.93701172,  603.        ],\n",
       "       [1618.20996094,  401.61898804,  547.84399414],\n",
       "       [1622.68005371,  417.69699097,  546.        ]])"
      ]
     },
     "execution_count": 8,
     "metadata": {},
     "output_type": "execute_result"
    }
   ],
   "source": [
    "vertices[verts_and_idx[:10, -1].astype(int), :]"
   ]
  },
  {
   "cell_type": "code",
   "execution_count": null,
   "metadata": {},
   "outputs": [],
   "source": [
    "# end_verts = np.hstack([vertices[end_indices, :], end_indices.reshape(-1, 1)])"
   ]
  },
  {
   "cell_type": "code",
   "execution_count": 15,
   "metadata": {},
   "outputs": [],
   "source": [
    "distance_matrix = sparse.lil_matrix((vertices.shape[0], vertices.shape[0]))\n",
    "\n",
    "distance_matrix[edges[:, 0], edges[:, 1]] = 10^-6\n",
    "\n",
    "ct = 0\n",
    "\n",
    "\n",
    "for leaf_idx, subgraph in end_indices_sub[end_indices_sub[:, 1] != 0, :]:\n",
    "    leaf = vertices[leaf_idx, :]\n",
    "    _end_indices = end_indices_sub[end_indices_sub[:, 1] != subgraph, 0]\n",
    "    end_verts = verts_and_idx[_end_indices, :]\n",
    "    max_distance = 60\n",
    "    neighbors = np.zeros((0,0))\n",
    "    while len(neighbors) < 10:\n",
    "        neighbors = get_adjacent_points(leaf, end_verts, max_distance)\n",
    "#         print(\"Got {} neighbors, max_distance={}\".format(len(neighbors), max_distance))\n",
    "        max_distance = max_distance + 10\n",
    "    leaf = leaf.reshape(1, -1)\n",
    "    distances = spatial.distance_matrix(leaf, neighbors[:, :3])\n",
    "#     print(distances)\n",
    "    distance_matrix[leaf_idx, neighbors[:, 3].astype(int)] = distances\n",
    "    ct = ct+1\n",
    "   "
   ]
  },
  {
   "cell_type": "code",
   "execution_count": 16,
   "metadata": {},
   "outputs": [],
   "source": [
    "import pickle"
   ]
  },
  {
   "cell_type": "code",
   "execution_count": 18,
   "metadata": {},
   "outputs": [],
   "source": [
    "with open(\"distance_matrix.pickle\", \"wb\") as fi:\n",
    "    pickle.dump(distance_matrix, fi)"
   ]
  },
  {
   "cell_type": "code",
   "execution_count": 19,
   "metadata": {},
   "outputs": [],
   "source": [
    "weighted_G = nx.from_scipy_sparse_matrix(distance_matrix)"
   ]
  },
  {
   "cell_type": "code",
   "execution_count": 44,
   "metadata": {},
   "outputs": [
    {
     "data": {
      "text/plain": [
       "613685"
      ]
     },
     "execution_count": 44,
     "metadata": {},
     "output_type": "execute_result"
    }
   ],
   "source": [
    "len(weighted_G.edges)"
   ]
  },
  {
   "cell_type": "code",
   "execution_count": 50,
   "metadata": {},
   "outputs": [],
   "source": [
    "mst = nx.minimum_spanning_tree(weighted_G)"
   ]
  },
  {
   "cell_type": "code",
   "execution_count": 67,
   "metadata": {},
   "outputs": [],
   "source": [
    "mst_subgraphs = list(sorted(nx.connected_components(mst), key=len, reverse=True))\n",
    "root_mst = mst.subgraph(mst_subgraphs[0])\n",
    "mst_edges = np.array(root_mst.edges)"
   ]
  },
  {
   "cell_type": "code",
   "execution_count": 66,
   "metadata": {},
   "outputs": [
    {
     "ename": "TypeError",
     "evalue": "'set' object is not subscriptable",
     "output_type": "error",
     "traceback": [
      "\u001b[1;31m---------------------------------------------------------------------------\u001b[0m",
      "\u001b[1;31mTypeError\u001b[0m                                 Traceback (most recent call last)",
      "\u001b[1;32m<ipython-input-66-3b898eb4d590>\u001b[0m in \u001b[0;36m<module>\u001b[1;34m\u001b[0m\n\u001b[0;32m      1\u001b[0m \u001b[0mmst_subgraphs\u001b[0m \u001b[1;33m=\u001b[0m \u001b[0mlist\u001b[0m\u001b[1;33m(\u001b[0m\u001b[0msorted\u001b[0m\u001b[1;33m(\u001b[0m\u001b[0mnx\u001b[0m\u001b[1;33m.\u001b[0m\u001b[0mconnected_components\u001b[0m\u001b[1;33m(\u001b[0m\u001b[0mmst\u001b[0m\u001b[1;33m)\u001b[0m\u001b[1;33m,\u001b[0m \u001b[0mkey\u001b[0m\u001b[1;33m=\u001b[0m\u001b[0mlen\u001b[0m\u001b[1;33m,\u001b[0m \u001b[0mreverse\u001b[0m\u001b[1;33m=\u001b[0m\u001b[1;32mTrue\u001b[0m\u001b[1;33m)\u001b[0m\u001b[1;33m)\u001b[0m\u001b[1;33m\u001b[0m\u001b[1;33m\u001b[0m\u001b[0m\n\u001b[1;32m----> 2\u001b[1;33m \u001b[0mmst_subgraphs\u001b[0m\u001b[1;33m[\u001b[0m\u001b[1;36m0\u001b[0m\u001b[1;33m]\u001b[0m\u001b[1;33m[\u001b[0m\u001b[1;33m:\u001b[0m\u001b[1;36m10\u001b[0m\u001b[1;33m]\u001b[0m\u001b[1;33m\u001b[0m\u001b[1;33m\u001b[0m\u001b[0m\n\u001b[0m",
      "\u001b[1;31mTypeError\u001b[0m: 'set' object is not subscriptable"
     ]
    }
   ],
   "source": []
  },
  {
   "cell_type": "code",
   "execution_count": 65,
   "metadata": {},
   "outputs": [
    {
     "data": {
      "text/plain": [
       "113"
      ]
     },
     "execution_count": 65,
     "metadata": {},
     "output_type": "execute_result"
    }
   ],
   "source": [
    "len(mst_subgraphs)"
   ]
  },
  {
   "cell_type": "code",
   "execution_count": null,
   "metadata": {},
   "outputs": [],
   "source": []
  }
 ],
 "metadata": {
  "kernelspec": {
   "display_name": "Python 3",
   "language": "python",
   "name": "python3"
  },
  "language_info": {
   "codemirror_mode": {
    "name": "ipython",
    "version": 3
   },
   "file_extension": ".py",
   "mimetype": "text/x-python",
   "name": "python",
   "nbconvert_exporter": "python",
   "pygments_lexer": "ipython3",
   "version": "3.7.3"
  }
 },
 "nbformat": 4,
 "nbformat_minor": 2
}
